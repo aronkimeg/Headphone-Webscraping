{
 "cells": [
  {
   "cell_type": "code",
   "execution_count": 1,
   "id": "5a61fecf-fe5a-4a9d-b999-858e8f476be9",
   "metadata": {},
   "outputs": [
    {
     "data": {
      "text/plain": [
       "'\\nTitle: Headphone Webscraping\\nAuthor: Aron Kim\\nDate: 12/17/24\\n\\nThis project aims to demonstrate web scraping skills using customer reviews for the well-known headphone brand Audio-Technica.\\nThe primary goal is to perform sentiment analysis on these reviews to determine whether the product is worth purchasing.\\nAdditionally, I plan to store the scraped data in a CSV file and implement an automated process to update the data monthly with new reviews.\\n\\n'"
      ]
     },
     "execution_count": 1,
     "metadata": {},
     "output_type": "execute_result"
    }
   ],
   "source": [
    "'''\n",
    "Title: Headphone Webscraping\n",
    "Author: Aron Kim\n",
    "Date: 12/17/24\n",
    "\n",
    "This project aims to demonstrate web scraping skills using customer reviews for the well-known headphone brand Audio-Technica.\n",
    "The primary goal is to perform sentiment analysis on these reviews to determine whether the product is worth purchasing.\n",
    "Additionally, I plan to store the scraped data in a CSV file and implement an automated process to update the data monthly with new reviews.\n",
    "\n",
    "'''"
   ]
  },
  {
   "cell_type": "code",
   "execution_count": 2,
   "id": "ae279a3a-87f0-47eb-b9a2-26a9140cb16d",
   "metadata": {},
   "outputs": [],
   "source": [
    "# Starting by importing libraries\n",
    "\n",
    "import pandas as pd\n",
    "import matplotlib.pyplot as plt\n",
    "from bs4 import BeautifulSoup\n",
    "import requests\n",
    "import random\n",
    "import datetime\n",
    "import time\n",
    "import smtplib\n",
    "import csv\n",
    "import pandas as pd"
   ]
  },
  {
   "cell_type": "code",
   "execution_count": 3,
   "id": "cdc6449f-7c61-4fab-92cd-0e68add1a30f",
   "metadata": {},
   "outputs": [
    {
     "name": "stdout",
     "output_type": "stream",
     "text": [
      "\n",
      "\n",
      "             Audio-Technica ATH-M50x Professional Studio Monitor Headphones, Black\n",
      "            \n",
      "\n",
      "149.\n",
      "4.7 out of 5 stars\n",
      "27,266 ratings\n",
      "FREE Returns\n"
     ]
    }
   ],
   "source": [
    "# Connecting to website\n",
    "\n",
    "URL = 'https://www.amazon.com/Audio-Technica-ATH-M50x-Professional-Monitor-Headphones/dp/B00HVLUR86/?_encoding=UTF8&pd_rd_w=dpbnC&content-id=amzn1.sym.ce7f3edf-012d-48bd-8dd4-138738c29cfa&pf_rd_p=ce7f3edf-012d-48bd-8dd4-138738c29cfa&pf_rd_r=QKTXT3Q7F487PKJYYNYM&pd_rd_wg=K8B1i&pd_rd_r=64cd525c-d896-492b-8093-c951fdaf21b3&ref_=pd_hp_d_btf_gcx_gw_per_1&th=1'\n",
    "\n",
    "headers = {\n",
    "    \"User-Agent\": \"Mozilla/5.0 (Windows NT 10.0; Win64; x64) AppleWebKit/537.36 (KHTML, like Gecko) Chrome/125.0.0.0 Safari/537.36\",\n",
    "    \"Accept-Language\": \"en-US,en;q=0.9\",\n",
    "    \"Accept-Encoding\": \"gzip, deflate, br\",\n",
    "    \"Referer\": \"https://www.amazon.com/\",\n",
    "    \"DNT\": \"1\",\n",
    "    \"Connection\": \"keep-alive\"\n",
    "}\n",
    "\n",
    "time.sleep(random.uniform(2, 5))  # Random sleep between 2 and 5 seconds\n",
    "page = requests.get(URL, headers=headers)\n",
    "\n",
    "soup1 = BeautifulSoup(page.content, 'html.parser')\n",
    "\n",
    "# Organizing contents of soup1\n",
    "soup2 = BeautifulSoup(soup1.prettify(), 'html.parser')\n",
    "\n",
    "#Scraping the website information\n",
    "#I found information by using element finder on the actual website for the headphones\n",
    "\n",
    "title = soup2.find(id='title').get_text()\n",
    "\n",
    "price = soup2.find(class_='a-price-whole').get_text(strip=True)\n",
    "\n",
    "rating = soup2.find('span', class_='a-icon-alt').get_text(strip=True)\n",
    "\n",
    "num_reviews = soup2.find(id='acrCustomerReviewText').get_text(strip=True)\n",
    "\n",
    "returns = soup2.find('a', id='creturns-policy-anchor-text').get_text(strip=True)\n",
    "\n",
    "print(title)\n",
    "print(price)\n",
    "print(rating)\n",
    "print(num_reviews)\n",
    "print(returns)"
   ]
  },
  {
   "cell_type": "code",
   "execution_count": 4,
   "id": "3b398ec5-31dd-4849-a599-5062ee551985",
   "metadata": {},
   "outputs": [
    {
     "name": "stdout",
     "output_type": "stream",
     "text": [
      "Audio-Technica ATH-M50x Professional Studio Monitor Headphones, Black\n",
      "149\n",
      "4.7 out of 5 stars\n",
      "FREE Returns\n"
     ]
    }
   ],
   "source": [
    "#Data cleaning\n",
    "\n",
    "price = price.strip()[:-1]\n",
    "title = title.strip()\n",
    "rating = rating.strip()\n",
    "returns = returns.strip()\n",
    "\n",
    "print(title)\n",
    "print(price)\n",
    "print(rating)\n",
    "print(returns)"
   ]
  },
  {
   "cell_type": "code",
   "execution_count": 5,
   "id": "c6984c16-53d9-4e67-942d-af2745fed87e",
   "metadata": {},
   "outputs": [
    {
     "name": "stdout",
     "output_type": "stream",
     "text": [
      "2025-02-10\n"
     ]
    }
   ],
   "source": [
    "#Adding date\n",
    "\n",
    "today = datetime.date.today()\n",
    "print(today)"
   ]
  },
  {
   "cell_type": "code",
   "execution_count": 6,
   "id": "bfb5efa2-ae4b-479b-b8f5-503bb3249c3b",
   "metadata": {},
   "outputs": [],
   "source": [
    "#Creating CSV and adding data to it\n",
    "\n",
    "header = ['Title', 'Price', 'Date', 'Rating', 'Returns']\n",
    "data = [title, price, today, rating, returns]\n",
    "\n",
    "\n",
    "#Using 'w' to write and 'newline' to remove spaces between CSVs\n",
    "#Creating CSV then adding header and data\n",
    "with open('TechnicaWebScraping.csv', 'w', newline='', encoding='UTF8') as f:\n",
    "    writer = csv.writer(f)\n",
    "    writer.writerow(header)\n",
    "    writer.writerow(data)"
   ]
  },
  {
   "cell_type": "code",
   "execution_count": 7,
   "id": "9a26aa14-a535-4fad-b849-62ef4d059496",
   "metadata": {},
   "outputs": [
    {
     "name": "stdout",
     "output_type": "stream",
     "text": [
      "                                               Title  Price        Date  \\\n",
      "0  Audio-Technica ATH-M50x Professional Studio Mo...    149  2025-02-10   \n",
      "\n",
      "               Rating       Returns  \n",
      "0  4.7 out of 5 stars  FREE Returns  \n"
     ]
    }
   ],
   "source": [
    "#Using pandas library to read in the CSV file and visually see my list\n",
    "\n",
    "df = pd.read_csv(r'C:\\Users\\aronk\\TechnicaWebScraping.csv')\n",
    "print(df)"
   ]
  },
  {
   "cell_type": "code",
   "execution_count": 8,
   "id": "e79c4e01-9283-4682-b2a0-18e2f2321b52",
   "metadata": {},
   "outputs": [],
   "source": [
    "#Creating a function in which will give me the data that I want everyday automatically\n",
    "#Simply adding the code that I already wrote into the function\n",
    "\n",
    "def check_price():\n",
    "    URL = 'https://www.amazon.com/Audio-Technica-ATH-M50x-Professional-Monitor-Headphones/dp/B00HVLUR86/?_encoding=UTF8&pd_rd_w=dpbnC&content-id=amzn1.sym.ce7f3edf-012d-48bd-8dd4-138738c29cfa&pf_rd_p=ce7f3edf-012d-48bd-8dd4-138738c29cfa&pf_rd_r=QKTXT3Q7F487PKJYYNYM&pd_rd_wg=K8B1i&pd_rd_r=64cd525c-d896-492b-8093-c951fdaf21b3&ref_=pd_hp_d_btf_gcx_gw_per_1&th=1'\n",
    "\n",
    "    headers = {\"User-Agent\": \"Mozilla/5.0 (Windows NT 10.0; Win64; x64) AppleWebKit/537.36 (KHTML, like Gecko) Chrome/131.0.0.0 Safari/537.36\", \"Accept-Language\": \"en-US,en;q=0.9\"}\n",
    "\n",
    "    page = requests.get(URL, headers=headers)\n",
    "\n",
    "    soup1 = BeautifulSoup(page.content, 'html.parser')\n",
    "\n",
    "    soup2 = BeautifulSoup(soup1.prettify(), 'html.parser')\n",
    "\n",
    "    title = soup2.find(id='title').get_text()\n",
    "\n",
    "    price = soup2.find(class_='a-price-whole').get_text(strip=True)\n",
    "\n",
    "    rating = soup2.find('span', class_='a-icon-alt').get_text(strip=True)\n",
    "\n",
    "    returns = soup2.find('a', id='creturns-policy-anchor-text').get_text(strip=True)\n",
    "    \n",
    "    price = price.strip()[:-1]\n",
    "    title = title.strip()\n",
    "    rating = rating.strip()\n",
    "    returns = returns.strip()\n",
    "    \n",
    "    today = datetime.date.today()\n",
    "\n",
    "    header = ['Title', 'Price', 'Date', 'Rating', 'Returns']\n",
    "    data = [title, price, today, rating, returns]\n",
    "\n",
    "    with open('TechnicaWebScraping.csv', 'w', newline='', encoding='UTF8') as f:\n",
    "        writer = csv.writer(f)\n",
    "        writer.writerow(header)\n",
    "        writer.writerow(data)"
   ]
  },
  {
   "cell_type": "code",
   "execution_count": null,
   "id": "3c0a9d45-7542-46f9-b915-0d11c85e3aed",
   "metadata": {},
   "outputs": [],
   "source": [
    "#This adds new price every month\n",
    "\n",
    "while(True):\n",
    "    check_price()\n",
    "    time.sleep(60*60*24*30)     #Multipling to find the seconds in a month"
   ]
  },
  {
   "cell_type": "code",
   "execution_count": null,
   "id": "5bbb3ec6-a1cb-4e30-ba3f-6ee319a7bbde",
   "metadata": {},
   "outputs": [],
   "source": [
    "#From this point of the project I will create a sentiment rating for the reviews.\n",
    "#The goal is to find score which tells me whether I should buy the product or not. "
   ]
  },
  {
   "cell_type": "code",
   "execution_count": 10,
   "id": "8a71faef-31ed-4301-ba07-6b551d5795ea",
   "metadata": {},
   "outputs": [
    {
     "data": {
      "text/plain": [
       "4.7"
      ]
     },
     "execution_count": 10,
     "metadata": {},
     "output_type": "execute_result"
    }
   ],
   "source": [
    "#Starting with data cleaning\n",
    "#I am converting ratings into numerical values\n",
    "\n",
    "import re\n",
    "\n",
    "rating_value = re.search(r'\\d+(\\.\\d+)?', rating)\n",
    "\n",
    "if rating_value:\n",
    "    rating_value = float(rating_value.group())\n",
    "else:\n",
    "    rating_value = None\n",
    "\n",
    "rating_value"
   ]
  },
  {
   "cell_type": "code",
   "execution_count": 11,
   "id": "18ff86c4-9601-480a-ac73-9218a2967373",
   "metadata": {},
   "outputs": [
    {
     "name": "stdout",
     "output_type": "stream",
     "text": [
      "False\n",
      "False\n",
      "False\n"
     ]
    }
   ],
   "source": [
    "#Checking for NaN and filling them in with the mean\n",
    "#No need to fill in because there are no NaNs\n",
    "\n",
    "print(pd.isna(rating))\n",
    "print(pd.isna(price))\n",
    "print(pd.isna(returns))"
   ]
  },
  {
   "cell_type": "code",
   "execution_count": 12,
   "id": "a82a91c4-cbc5-45bd-ad32-d0eb3398b1d4",
   "metadata": {},
   "outputs": [
    {
     "data": {
      "text/plain": [
       "27266"
      ]
     },
     "execution_count": 12,
     "metadata": {},
     "output_type": "execute_result"
    }
   ],
   "source": [
    "#I am converting the number of reviews to an integer so that I can use it laste as a parameter for Random Forest\n",
    "\n",
    "num_reviews_cleaned = re.sub(r'[^\\d]', '', num_reviews)\n",
    "num_reviews_asint = int(num_reviews_cleaned)\n",
    "num_reviews_asint"
   ]
  },
  {
   "cell_type": "code",
   "execution_count": 13,
   "id": "14f3f7f9-50b9-4dd0-9b31-88ab47eaed5c",
   "metadata": {},
   "outputs": [
    {
     "name": "stdout",
     "output_type": "stream",
     "text": [
      "Let me start off with a disclaimer that I am rather severely hard of hearing (require good hearing aids to hear well...ish) caused by a bout with bacterial menigitis as a toddler, so take the following review for what you will.General Summary: With these, I can hear/feel bass, I can now (occasionally) hear things I couldn't hear before (eg: cymbals/high-hats on drums) and similar sounds (although my headphones are in the dangrously loud range of 85-90db+ range when I do so). Volume is not an issue with these by any means as I can actually turn them up to be loud enough to hurt my ears and force me to turn it back down (though I rarely ever have it that loud as my hearing is damaged enough as is lol).For music: The bass has will actually vibrate my headphones when turned up despite not having EQ tuned more towards bass (it's pretty flat which is another bonus as it gives you a better baseline for EQ control). I can hear certain things I never could before such as things in the \"back of the mix\", faint adlibs, subtle sounds such as cymbals and hi-hats on drums.For Gaming: Clarity is incredible and I have slightly more situational awareness when in games (though I still miss some things due to my hearing issues). Volume & sound feels rather \"full\" to me as well. I rarely ever have volume/sound issues in games with these headphones.For movie/video (youtube, netflix, etc): Outside of really soft speaking/whispering, I have absolutely no issue with hearing everything rather clearly (aside from added effects such as distortions of course, but I can barely understand that to begin with due to hearing). Even with distortions though, I can actually hear and understand it a little better than I have ever been able to with any other headphones I've ever used, personally. My previous headset was a Logitech Artimis which was surprising how good it was and until I got these, the Artimis headsets were the best I've ever used (though gaming focused)... Now? Sorry Logitech, but these are even better, however, with that said. Both are surprisingly affordable for their quality and neither use the dreaded \"in-line controls\" which always the weakest point and when that goes, the headphones stop working so any headphones without in-line controls will always be viewed far more favorably by me in durability... Speaking of...Durability: I've dropped these countless times (by accident... butterfingered klutz problems lol). Have accidentally \"kicked\" them, pulled a little too hard when there was not enough cord, and other various, minor mishaps common from daily use and they are still working fine with 0 issues or any actual damage.I have one minor gripe although I think that has more to do with my glasses (or me) than with the headphones and that is that sometimes I can't seem to make them sit comfortably on my head, but rotating the cups a little seems to help though it still takes a few minutes to get used to it again but once I do... They are incredibly comfortable and remain comfortable even after wearing them for 12+ hours a day as I do most things on the PC and at my PC most of the day, so I'm wearing the headphones more often than not.These are durable, powerful, and comfortable. The only drawback for me *personally* has less to do with the headphones and more with hardware/software of my PC which is I wish this came with an app that could read db output so I can be more conscious and careful of my hearing for it is more dangerous (for me). Thus it is more likely to cause damage for me as my starting volume is considerably higher by default due to hearing loss as the 70db range is what I need to hear well enough to follow along (I can *hear* the 60db range, but have severe trouble understanding as it's barely whisper level for me due to hearing). but that's really close to 80db range and I can easily cross over into that (and into the 90s) for long extended listening periods which can damage hearing if done for extended amounts of times.All in all, I highly recommend this product whether your hearing is normal or damaged. I have found no legitimate faults with this product. I would definitely purchase again in the future (doubly so if they create and include an app that can help keep track of db levels to add a layer of hearing protection much like apple does with their air pod ear buds and the hearing section of the health app). I would hope that if they do the app, it is free or at least cheap and affordable (like 5-10 USD at most and not something like 50-100 USD).To the person reading this: I hope this review from someone with hearing impairments was helpful in spite of the fact that I have severe hearing damage. Thank you for taking the time to read this and have a great day/night.Read more\n",
      "First, I am not an audiophile, so this review is for us mere mortals with normal ears.  I understand there are super tasters, and probably super listeners.  I am not a super listener, and am willing to accept that my ears are \"normal\".  If you are an audiophile, or \"super listener\" just move on.  Please don't buy these and leave a negative review.  Leaving a negative review is not useful to the other 95% of humans.  Accept that you have an incredible sense level that most of us don't have.I gave these a 5 star audio quality because a normal person can easily tell the difference between these and a gaming headset, for example.  This is an important quality for normal human use.  A lot of \"high end\" headsets are indistinguishable, for normal people, to a headset like these.  For listening to music and sound accuracy, these are simply amazing.  They are not insane bass headphones.  The bass is good, but it's normal good, it is not amplified to ridiculous levels like some headphones.  The sound seems neutral and relatively balanced.  The sound is much more detailed than any other headset I've used in the past.  There are smaller details on a lot of the music that I listen to that I never noticed before.  Again, this is from the perspective of a normal human with normal ears, so there is a good chance you will be able to have the same results.Noise cancellation I gave a 4 star because they do block a ton of sound but are not active noise cancellation.  So there is room for improvement but they are still very good.  Normal people won't have an issue with this I don't think.  One thing to note here is if you have ears that stick out these will be uncomfortable.  The pads are comfortable enough, but the foam over the speakers are irritating on the ears.  This doesn't bother me because my ears sit close to my head.  Your mileage may vary here.For gaming I gave these a 4 star.  It's hard to rate these for gaming, because gaming is not the primary purpose of these headphones.  They are a 4 star for me, personally.  It honestly depends on what you are looking for in a gaming headset.  If you are looking for sound accuracy these are amazing.  If you want massive explosion booms with overly loud bass in call of duty, these might not be for you.  If you want overly sensitive and loud treble so you can hear footsteps from a mile away, these are not for you.  To be clear, these do both of those things, but they do so in a balanced and accurate way.  These are not \"competitive\" level for gaming.  However, if you play casually and not competitively, these are an amazing set for gaming.  These will produce a more natural sound, which is something the vast majority of gaming headsets do not do.  Most gaming headsets focus more on treble for competition.  They do not offer a natural sounds.  One could argue this headset is closer to how the sound designers intended you to hear their games than a gaming headset, counterintuitively.Who are these for?  These are not for professionals or audiophiles.  These are for mortal listeners.  If you are a mortal listener, you can easily tell the difference in sound and appreciate what these have to offer.  You absolutely cannot say that about a lot of \"audiophile\" headsets that cost a ton more.  This headset is good enough for anyone to appreciate the difference in quality.  These are not for people who need a non-balanced sound.  I am not criticizing the need for those kinds of headsets at all.  They perform their function well.  This is not one of those.To sum this review up, these are incredible headphones for the value if you want a balanced, accurate, sound profile.  These are \"just buy it\" quality for normal humans.Read more\n",
      "O fone é simplesmente incrível, eu possuo um amplificador de áudio que deixa a performance do fone irretocável, recomendo comprar alguma proteção para o couro que fica em contato com o cabelo, pois o mesmo pode vir a rachar (que é normal nesses couros) mesmo sendo um fone desse preço e qualidade o couro não se mantém perfeito para o resto da vida.Muito confortável, o fone abraça os ouvidos e propõe um isolamento perfeito, ao mesmo tempo que está tudo bem isolado, você ainda consegue escutar algo mesmo sem precisar tirar o fone.O preço pode te deixar com o pé atrás, mas para mim, é um valor que se justifica com a qualidade de construção e a qualidade IRRETOCÁVEL do áudio.Read more\n",
      "J'étais un peu dubitatif sur ces écouteurs, mais j'ai vu de nombreux avis sur d'autres chaînes, qui parlaient tous en bien d'eux.  puis j'ai eu envie de l'essayer et je dois dire que j'ai été très impressionné par la qualité sonore.  Des aigus cristallins et des médiums très clairs également.  les basses sont très bonnes, peut-être un peu faibles, mais peut-être parce que je les aime plus profondes, mais en général elles sont très équilibrées.  en conclusion je crois qu'il n'y a pas de concurrence d'autres marques en terme de prix et de qualité, elles sont même meilleures que certaines marques plus connues.Read more\n",
      "Sesler düzenlendiği şekilde duyuluyor. Makyajsız ve mükemmel sound. Sol kulaklığım parazit yapıyordu. İade oluşturdum ama sonra kesildi iadeyi iptal ettim. Umarım tekrar aynı sorunu yaşamam.Mağaza zaten bu işin Eliti ☺️Read more\n",
      "I like this headphone for mixing and music productionRead more\n",
      "First pair lasted me 4 years+ of daily use, highly recommend these headphones. They sound superb, good for music & gaming, they’re rather comfortable too.Read more\n"
     ]
    }
   ],
   "source": [
    "#I am now creating a sentiment score\n",
    "#I am starting by scraping the review comments left by customers\n",
    "\n",
    "review_comments = soup2.find_all('li', {'data-hook': 'review'})\n",
    "\n",
    "for comment in review_comments:\n",
    "    review_text = comment.find('span', {'class': 'review-text'})\n",
    "    if review_text:\n",
    "        print(review_text.get_text(strip=True))"
   ]
  },
  {
   "cell_type": "code",
   "execution_count": 14,
   "id": "da10cdfa-a066-43b5-a21c-c3f3c0654173",
   "metadata": {},
   "outputs": [
    {
     "name": "stdout",
     "output_type": "stream",
     "text": [
      "Requirement already satisfied: textblob in c:\\users\\aronk\\anaconda\\lib\\site-packages (0.19.0)\n",
      "Requirement already satisfied: nltk>=3.9 in c:\\users\\aronk\\anaconda\\lib\\site-packages (from textblob) (3.9.1)\n",
      "Requirement already satisfied: click in c:\\users\\aronk\\anaconda\\lib\\site-packages (from nltk>=3.9->textblob) (8.1.7)\n",
      "Requirement already satisfied: joblib in c:\\users\\aronk\\anaconda\\lib\\site-packages (from nltk>=3.9->textblob) (1.4.2)\n",
      "Requirement already satisfied: regex>=2021.8.3 in c:\\users\\aronk\\anaconda\\lib\\site-packages (from nltk>=3.9->textblob) (2024.9.11)\n",
      "Requirement already satisfied: tqdm in c:\\users\\aronk\\anaconda\\lib\\site-packages (from nltk>=3.9->textblob) (4.66.5)\n",
      "Requirement already satisfied: colorama in c:\\users\\aronk\\anaconda\\lib\\site-packages (from click->nltk>=3.9->textblob) (0.4.6)\n",
      "Sentiment Score: 0.13703479308390026\n",
      "\n",
      "Sentiment Score: 0.22197318007662828\n",
      "\n",
      "Sentiment Score: 0.325\n",
      "\n",
      "Sentiment Score: 0.5\n",
      "\n",
      "Sentiment Score: 0.45\n",
      "\n",
      "Sentiment Score: 0.5\n",
      "\n",
      "Sentiment Score: 0.42624999999999996\n",
      "\n",
      "Average Sentiment Score: 0.36575113902293266\n"
     ]
    }
   ],
   "source": [
    "#Using textblob to do a sentiment text analysis\n",
    "#I am finding the sentiment scores for each review left by the customers\n",
    "#The score ranges from -1 to 1, where 0 means neutral, x > 0 means positive and x < 0 means negative\n",
    "#The scores will tell me whether I should buy the product or not\n",
    "\n",
    "!pip install textblob\n",
    "from nltk.sentiment import SentimentIntensityAnalyzer\n",
    "from textblob import TextBlob\n",
    "\n",
    "sentiment_scores = []\n",
    "\n",
    "\n",
    "for comment in review_comments:\n",
    "    review_text = comment.find('span', {'class': 'review-text'})\n",
    "    \n",
    "    if review_text:\n",
    "        review_text_clean = review_text.get_text(strip=True)\n",
    "\n",
    "        sentiment_score = TextBlob(review_text_clean).sentiment.polarity\n",
    "        print(f\"Sentiment Score: {sentiment_score}\\n\")\n",
    "        \n",
    "        sentiment_scores.append(sentiment_score)\n",
    "\n",
    "if sentiment_scores:\n",
    "    avg_sentiment_score = sum(sentiment_scores) / len(sentiment_scores)\n",
    "    print(f\"Average Sentiment Score: {avg_sentiment_score}\")"
   ]
  }
 ],
 "metadata": {
  "kernelspec": {
   "display_name": "Python 3 (ipykernel)",
   "language": "python",
   "name": "python3"
  },
  "language_info": {
   "codemirror_mode": {
    "name": "ipython",
    "version": 3
   },
   "file_extension": ".py",
   "mimetype": "text/x-python",
   "name": "python",
   "nbconvert_exporter": "python",
   "pygments_lexer": "ipython3",
   "version": "3.12.7"
  }
 },
 "nbformat": 4,
 "nbformat_minor": 5
}
