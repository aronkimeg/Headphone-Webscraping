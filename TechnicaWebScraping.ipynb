{
 "cells": [
  {
   "cell_type": "code",
   "execution_count": null,
   "id": "5a61fecf-fe5a-4a9d-b999-858e8f476be9",
   "metadata": {},
   "outputs": [],
   "source": [
    "'''\n",
    "Title: Headphone Webscraping\n",
    "Author: Aron Kim\n",
    "Date: 12/17/24\n",
    "\n",
    "This project aims to demonstrate web scraping skills using customer reviews for the well-known headphone brand Audio-Technica.\n",
    "The primary goal is to perform sentiment analysis on these reviews to determine whether the product is worth purchasing.\n",
    "Additionally, I plan to store the scraped data in a CSV file and implement an automated process to update the data monthly with new reviews.\n",
    "\n",
    "'''"
   ]
  },
  {
   "cell_type": "code",
   "execution_count": 3,
   "id": "ae279a3a-87f0-47eb-b9a2-26a9140cb16d",
   "metadata": {},
   "outputs": [],
   "source": [
    "# Starting by importing libraries\n",
    "\n",
    "import pandas as pd\n",
    "import matplotlib.pyplot as plt\n",
    "from bs4 import BeautifulSoup\n",
    "import requests\n",
    "import random\n",
    "import datetime\n",
    "import time\n",
    "import smtplib\n",
    "import csv\n",
    "import pandas as pd"
   ]
  },
  {
   "cell_type": "code",
   "execution_count": 4,
   "id": "cdc6449f-7c61-4fab-92cd-0e68add1a30f",
   "metadata": {},
   "outputs": [
    {
     "name": "stdout",
     "output_type": "stream",
     "text": [
      "\n",
      "\n",
      "             Audio-Technica ATH-M50x Professional Studio Monitor Headphones, Black\n",
      "            \n",
      "\n",
      "149.\n",
      "4.7 out of 5 stars\n",
      "27,251 ratings\n",
      "FREE Returns\n"
     ]
    }
   ],
   "source": [
    "# Connecting to website\n",
    "\n",
    "URL = 'https://www.amazon.com/Audio-Technica-ATH-M50x-Professional-Monitor-Headphones/dp/B00HVLUR86/?_encoding=UTF8&pd_rd_w=dpbnC&content-id=amzn1.sym.ce7f3edf-012d-48bd-8dd4-138738c29cfa&pf_rd_p=ce7f3edf-012d-48bd-8dd4-138738c29cfa&pf_rd_r=QKTXT3Q7F487PKJYYNYM&pd_rd_wg=K8B1i&pd_rd_r=64cd525c-d896-492b-8093-c951fdaf21b3&ref_=pd_hp_d_btf_gcx_gw_per_1&th=1'\n",
    "\n",
    "headers = {\n",
    "    \"User-Agent\": \"Mozilla/5.0 (Windows NT 10.0; Win64; x64) AppleWebKit/537.36 (KHTML, like Gecko) Chrome/125.0.0.0 Safari/537.36\",\n",
    "    \"Accept-Language\": \"en-US,en;q=0.9\",\n",
    "    \"Accept-Encoding\": \"gzip, deflate, br\",\n",
    "    \"Referer\": \"https://www.amazon.com/\",\n",
    "    \"DNT\": \"1\",\n",
    "    \"Connection\": \"keep-alive\"\n",
    "}\n",
    "\n",
    "time.sleep(random.uniform(2, 5))  # Random sleep between 2 and 5 seconds\n",
    "page = requests.get(URL, headers=headers)\n",
    "\n",
    "soup1 = BeautifulSoup(page.content, 'html.parser')\n",
    "\n",
    "# Organizing contents of soup1\n",
    "soup2 = BeautifulSoup(soup1.prettify(), 'html.parser')\n",
    "\n",
    "#Scraping the website information\n",
    "#I found information by using element finder on the actual website for the headphones\n",
    "\n",
    "title = soup2.find(id='title').get_text()\n",
    "\n",
    "price = soup2.find(class_='a-price-whole').get_text(strip=True)\n",
    "\n",
    "rating = soup2.find('span', class_='a-icon-alt').get_text(strip=True)\n",
    "\n",
    "num_reviews = soup2.find(id='acrCustomerReviewText').get_text(strip=True)\n",
    "\n",
    "returns = soup2.find('a', id='creturns-policy-anchor-text').get_text(strip=True)\n",
    "\n",
    "print(title)\n",
    "print(price)\n",
    "print(rating)\n",
    "print(num_reviews)\n",
    "print(returns)"
   ]
  },
  {
   "cell_type": "code",
   "execution_count": 5,
   "id": "3b398ec5-31dd-4849-a599-5062ee551985",
   "metadata": {},
   "outputs": [
    {
     "name": "stdout",
     "output_type": "stream",
     "text": [
      "Audio-Technica ATH-M50x Professional Studio Monitor Headphones, Black\n",
      "149\n",
      "4.7 out of 5 stars\n",
      "FREE Returns\n"
     ]
    }
   ],
   "source": [
    "#Data cleaning\n",
    "\n",
    "price = price.strip()[:-1]\n",
    "title = title.strip()\n",
    "rating = rating.strip()\n",
    "returns = returns.strip()\n",
    "\n",
    "print(title)\n",
    "print(price)\n",
    "print(rating)\n",
    "print(returns)"
   ]
  },
  {
   "cell_type": "code",
   "execution_count": 6,
   "id": "c6984c16-53d9-4e67-942d-af2745fed87e",
   "metadata": {},
   "outputs": [
    {
     "name": "stdout",
     "output_type": "stream",
     "text": [
      "2025-02-06\n"
     ]
    }
   ],
   "source": [
    "#Adding date\n",
    "\n",
    "today = datetime.date.today()\n",
    "print(today)"
   ]
  },
  {
   "cell_type": "code",
   "execution_count": 7,
   "id": "bfb5efa2-ae4b-479b-b8f5-503bb3249c3b",
   "metadata": {},
   "outputs": [],
   "source": [
    "#Creating CSV and adding data to it\n",
    "\n",
    "header = ['Title', 'Price', 'Date', 'Rating', 'Returns']\n",
    "data = [title, price, today, rating, returns]\n",
    "\n",
    "\n",
    "#Using 'w' to write and 'newline' to remove spaces between CSVs\n",
    "#Creating CSV then adding header and data\n",
    "with open('TechnicaWebScraping.csv', 'w', newline='', encoding='UTF8') as f:\n",
    "    writer = csv.writer(f)\n",
    "    writer.writerow(header)\n",
    "    writer.writerow(data)"
   ]
  },
  {
   "cell_type": "code",
   "execution_count": 8,
   "id": "9a26aa14-a535-4fad-b849-62ef4d059496",
   "metadata": {},
   "outputs": [
    {
     "name": "stdout",
     "output_type": "stream",
     "text": [
      "                                               Title  Price        Date  \\\n",
      "0  Audio-Technica ATH-M50x Professional Studio Mo...    149  2025-02-06   \n",
      "\n",
      "               Rating       Returns  \n",
      "0  4.7 out of 5 stars  FREE Returns  \n"
     ]
    }
   ],
   "source": [
    "#Using pandas library to read in the CSV file and visually see my list\n",
    "\n",
    "df = pd.read_csv(r'C:\\Users\\aronk\\TechnicaWebScraping.csv')\n",
    "print(df)"
   ]
  },
  {
   "cell_type": "code",
   "execution_count": 9,
   "id": "e79c4e01-9283-4682-b2a0-18e2f2321b52",
   "metadata": {},
   "outputs": [],
   "source": [
    "#Creating a function in which will give me the data that I want everyday automatically\n",
    "#Simply adding the code that I already wrote into the function\n",
    "\n",
    "def check_price():\n",
    "    URL = 'https://www.amazon.com/Audio-Technica-ATH-M50x-Professional-Monitor-Headphones/dp/B00HVLUR86/?_encoding=UTF8&pd_rd_w=dpbnC&content-id=amzn1.sym.ce7f3edf-012d-48bd-8dd4-138738c29cfa&pf_rd_p=ce7f3edf-012d-48bd-8dd4-138738c29cfa&pf_rd_r=QKTXT3Q7F487PKJYYNYM&pd_rd_wg=K8B1i&pd_rd_r=64cd525c-d896-492b-8093-c951fdaf21b3&ref_=pd_hp_d_btf_gcx_gw_per_1&th=1'\n",
    "\n",
    "    headers = {\"User-Agent\": \"Mozilla/5.0 (Windows NT 10.0; Win64; x64) AppleWebKit/537.36 (KHTML, like Gecko) Chrome/131.0.0.0 Safari/537.36\", \"Accept-Language\": \"en-US,en;q=0.9\"}\n",
    "\n",
    "    page = requests.get(URL, headers=headers)\n",
    "\n",
    "    soup1 = BeautifulSoup(page.content, 'html.parser')\n",
    "\n",
    "    soup2 = BeautifulSoup(soup1.prettify(), 'html.parser')\n",
    "\n",
    "    title = soup2.find(id='title').get_text()\n",
    "\n",
    "    price = soup2.find(class_='a-price-whole').get_text(strip=True)\n",
    "\n",
    "    rating = soup2.find('span', class_='a-icon-alt').get_text(strip=True)\n",
    "\n",
    "    returns = soup2.find('a', id='creturns-policy-anchor-text').get_text(strip=True)\n",
    "    \n",
    "    price = price.strip()[:-1]\n",
    "    title = title.strip()\n",
    "    rating = rating.strip()\n",
    "    returns = returns.strip()\n",
    "    \n",
    "    today = datetime.date.today()\n",
    "\n",
    "    header = ['Title', 'Price', 'Date', 'Rating', 'Returns']\n",
    "    data = [title, price, today, rating, returns]\n",
    "\n",
    "    with open('TechnicaWebScraping.csv', 'w', newline='', encoding='UTF8') as f:\n",
    "        writer = csv.writer(f)\n",
    "        writer.writerow(header)\n",
    "        writer.writerow(data)"
   ]
  },
  {
   "cell_type": "code",
   "execution_count": null,
   "id": "e4a6d799-88ab-408c-bbc8-a61db4701344",
   "metadata": {},
   "outputs": [],
   "source": [
    "#This adds new price every month\n",
    "\n",
    "while(True):\n",
    "    check_price()\n",
    "    time.sleep(60*60*24*30)     #Multipling to find the seconds in a month"
   ]
  },
  {
   "cell_type": "code",
   "execution_count": null,
   "id": "5bbb3ec6-a1cb-4e30-ba3f-6ee319a7bbde",
   "metadata": {},
   "outputs": [],
   "source": [
    "#From this point of the project I will create a sentiment rating for the reviews.\n",
    "#The goal is to find score which tells me whether I should buy the product or not. "
   ]
  },
  {
   "cell_type": "code",
   "execution_count": null,
   "id": "8a71faef-31ed-4301-ba07-6b551d5795ea",
   "metadata": {},
   "outputs": [],
   "source": [
    "#Starting with data cleaning\n",
    "#I am converting ratings into numerical values\n",
    "\n",
    "import re\n",
    "\n",
    "rating_value = re.search(r'\\d+(\\.\\d+)?', rating)\n",
    "\n",
    "if rating_value:\n",
    "    rating_value = float(rating_value.group())\n",
    "else:\n",
    "    rating_value = None\n",
    "\n",
    "rating_value"
   ]
  },
  {
   "cell_type": "code",
   "execution_count": null,
   "id": "18ff86c4-9601-480a-ac73-9218a2967373",
   "metadata": {},
   "outputs": [],
   "source": [
    "#Checking for NaN and filling them in with the mean\n",
    "#No need to fill in because there are no NaNs\n",
    "\n",
    "print(pd.isna(rating))\n",
    "print(pd.isna(price))\n",
    "print(pd.isna(returns))"
   ]
  },
  {
   "cell_type": "code",
   "execution_count": null,
   "id": "a82a91c4-cbc5-45bd-ad32-d0eb3398b1d4",
   "metadata": {},
   "outputs": [],
   "source": [
    "#I am converting the number of reviews to an integer\n",
    "\n",
    "num_reviews_cleaned = re.sub(r'[^\\d]', '', num_reviews)\n",
    "num_reviews_asint = int(num_reviews_cleaned)\n",
    "num_reviews_asint"
   ]
  },
  {
   "cell_type": "code",
   "execution_count": null,
   "id": "14f3f7f9-50b9-4dd0-9b31-88ab47eaed5c",
   "metadata": {},
   "outputs": [],
   "source": [
    "#I am now creating a sentiment score\n",
    "#I am starting by scraping the review comments left by customers\n",
    "\n",
    "review_comments = soup2.find_all('li', {'data-hook': 'review'})\n",
    "\n",
    "for comment in review_comments:\n",
    "    review_text = comment.find('span', {'class': 'review-text'})\n",
    "    if review_text:\n",
    "        print(review_text.get_text(strip=True))"
   ]
  },
  {
   "cell_type": "code",
   "execution_count": null,
   "id": "da10cdfa-a066-43b5-a21c-c3f3c0654173",
   "metadata": {},
   "outputs": [],
   "source": [
    "#Using textblob to do a sentiment text analysis\n",
    "#I am finding the sentiment scores for each review left by the customers\n",
    "#The score ranges from -1 to 1, where 0 means neutral, x > 0 means positive and x < 0 means negative\n",
    "#The scores will tell me whether I should buy the product or not\n",
    "\n",
    "!pip install textblob\n",
    "from nltk.sentiment import SentimentIntensityAnalyzer\n",
    "from textblob import TextBlob\n",
    "\n",
    "sentiment_scores = []\n",
    "\n",
    "\n",
    "for comment in review_comments:\n",
    "    review_text = comment.find('span', {'class': 'review-text'})\n",
    "    \n",
    "    if review_text:\n",
    "        review_text_clean = review_text.get_text(strip=True)\n",
    "\n",
    "        sentiment_score = TextBlob(review_text_clean).sentiment.polarity\n",
    "        print(f\"Sentiment Score: {sentiment_score}\\n\")\n",
    "        \n",
    "        sentiment_scores.append(sentiment_score)\n",
    "\n",
    "if sentiment_scores:\n",
    "    avg_sentiment_score = sum(sentiment_scores) / len(sentiment_scores)\n",
    "    print(f\"Average Sentiment Score: {avg_sentiment_score}\")"
   ]
  }
 ],
 "metadata": {
  "kernelspec": {
   "display_name": "Python 3 (ipykernel)",
   "language": "python",
   "name": "python3"
  },
  "language_info": {
   "codemirror_mode": {
    "name": "ipython",
    "version": 3
   },
   "file_extension": ".py",
   "mimetype": "text/x-python",
   "name": "python",
   "nbconvert_exporter": "python",
   "pygments_lexer": "ipython3",
   "version": "3.12.7"
  }
 },
 "nbformat": 4,
 "nbformat_minor": 5
}
